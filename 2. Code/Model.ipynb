{
 "cells": [
  {
   "cell_type": "code",
   "execution_count": null,
   "metadata": {},
   "outputs": [],
   "source": []
  },
  {
   "cell_type": "markdown",
   "metadata": {},
   "source": [
    "# Short and Long Term Energy Model - Isle of Eigg"
   ]
  },
  {
   "cell_type": "markdown",
   "metadata": {},
   "source": [
    "##### Created on: 25.12.2023\n",
    "##### Last updated on: 17.01.2024\n",
    "##### File Revision: 01\n",
    "\n",
    "##### Developed by: Taha Ahmed Siddiqui (tahaahmedsiddiqui@outlook.com) and Hareem Taha (hareem.nadeem10@gmail.com)\n",
    "##### GitHub Repository: https://github.com/TahaAhmedSiddiqui/Energy-Modelling---Isle-of-Eigg"
   ]
  },
  {
   "cell_type": "markdown",
   "metadata": {},
   "source": [
    "### 1. Base Case\n",
    "\n",
    "##### (With current capacities and no new installed capacities, we look at the emissions and the demand not covered)"
   ]
  },
  {
   "cell_type": "markdown",
   "metadata": {},
   "source": [
    "##### Enter your code here and before 2. for Base Case"
   ]
  },
  {
   "cell_type": "code",
   "execution_count": 43,
   "metadata": {},
   "outputs": [],
   "source": [
    "#Import relevant packages here\n",
    "\n",
    "import pyomo.environ as pyo\n",
    "import pandas as pd\n",
    "import matplotlib.pyplot as plt"
   ]
  },
  {
   "cell_type": "code",
   "execution_count": 44,
   "metadata": {},
   "outputs": [],
   "source": [
    "#Initiate the model\n",
    "\n",
    "#Naming the model 'EM' -- stands for Energy Model\n",
    "EM = pyo.AbstractModel()"
   ]
  },
  {
   "cell_type": "markdown",
   "metadata": {},
   "source": [
    "#### Sets"
   ]
  },
  {
   "cell_type": "code",
   "execution_count": 45,
   "metadata": {},
   "outputs": [],
   "source": [
    "#Call the data from input csv's and generate sets\n",
    "#The model iterates over a set of technologies, a set of storages, and a set of fuels that connects the two and serves the demand\n",
    "\n",
    "#Reading the csv's\n",
    "technology = pd.read_csv('../1. Input/technologies.csv')\n",
    "fuel = pd.read_csv('../1. Input/fuels.csv')\n",
    "storage = pd.read_csv('../1. Input/storages.csv')\n",
    "\n",
    "#Creating sets\n",
    "EM.Technology = pyo.Set(initialize = technology['technology'])\n",
    "EM.Fuel = pyo.Set(initialize = fuel['fuel'])\n",
    "EM.Storage = pyo.Set(initialize = storage['storage'])\n",
    "EM.Hour = pyo.RangeSet(1,8760,1)"
   ]
  },
  {
   "cell_type": "markdown",
   "metadata": {},
   "source": [
    "#### Parameters"
   ]
  },
  {
   "cell_type": "code",
   "execution_count": 46,
   "metadata": {},
   "outputs": [],
   "source": [
    "#Call the data from input csv's and generate parameters\n",
    "#The model has the installed capacities of technologies and storages, their conversion ratios and efficiencies, and a demand profile\n",
    "\n",
    "#Reading the csv's\n",
    "readin_variablecost = pd.read_csv('../1. Input/variablecost.csv', index_col=[0], sep=',').squeeze('columns')\n",
    "readin_inputratio = pd.read_csv('../1. Input/inputratio.csv', index_col=[0,1], sep=',').squeeze('columns')\n",
    "readin_outputratio = pd.read_csv('../1. Input/outputratio.csv', index_col=[0,1], sep=',').squeeze('columns')\n",
    "readin_demand = pd.read_csv('../1. Input/demand.csv', index_col=[0], sep=',').squeeze('columns')\n",
    "readin_emissionratio = pd.read_csv('../1. Input/emissionratio.csv', index_col=[0], sep=',').squeeze('columns')\n",
    "readin_maxcapacity = pd.read_csv('../1. Input/maxcapacity.csv', index_col=[0], sep=',').squeeze('columns')\n",
    "readin_demandprofile = pd.read_csv('../1. Input/demand_timeseries.csv', index_col=[0,1], sep=',').squeeze('columns')\n",
    "readin_capacityfactor = pd.read_csv('../1. Input/capacity_factors_2018.csv', index_col=[0,1], sep=',').squeeze('columns')\n",
    "readin_tagdispatchabletechnology = pd.read_csv('../1. Input/tagdispatchabletechnology.csv', index_col=[0], sep=',').squeeze('columns')\n",
    "readin_e2pratio = pd.read_csv('../1. Input/e2pratio.csv', index_col=[0], sep=',').squeeze('columns')\n",
    "readin_storagechargeefficiency = pd.read_csv('../1. Input/storagechargeefficiency.csv', index_col=[0,1], sep=',').squeeze('columns')\n",
    "readin_storagedischargeefficiency = pd.read_csv('../1. Input/storagedischargeefficiency.csv', index_col=[0,1], sep=',').squeeze('columns')\n",
    "readin_investmentcost = pd.read_csv('../1. Input/investmentcost.csv', index_col=[0], sep=',').squeeze('columns')\n",
    "readin_investmentcoststorage = pd.read_csv('../1. Input//investmentcoststorage.csv', index_col=[0], sep=',').squeeze('columns')\n",
    "readin_residualcapacity = pd.read_csv('../1. Input/residualcapacity.csv', index_col=[0], sep=',').squeeze('columns')\n",
    "readin_residualcapacitystorage = pd.read_csv('../1. Input/residualcapacitystorage.csv', index_col=[0,1], sep=',').squeeze('columns')\n",
    "readin_taggridtechnology = pd.read_csv('../1. Input/taggridtechnology.csv', index_col=[0], sep=',').squeeze('columns')\n",
    "\n",
    "#Creating parameters\n",
    "EM.VariableCost = pyo.Param(EM.Technology, default=0, initialize=readin_variablecost)\n",
    "EM.OutputRatio = pyo.Param(EM.Technology, EM.Fuel, default=0, initialize=readin_outputratio)\n",
    "EM.InputRatio = pyo.Param(EM.Technology, EM.Fuel, default=0 , initialize=readin_inputratio)\n",
    "EM.Demand = pyo.Param(EM.Fuel, default =0, initialize=readin_demand)\n",
    "EM.EmissionRatio = pyo.Param(EM.Technology, default=0, initialize=readin_emissionratio)\n",
    "EM.MaxCapacity = pyo.Param(EM.Technology, default=999999, initialize=readin_maxcapacity)\n",
    "EM.DemandProfile = pyo.Param(EM.Fuel, EM.Hour, default=1/len(EM.Hour.data()), initialize=readin_demandprofile)\n",
    "EM.CapacityFactor = pyo.Param(EM.Technology, EM.Hour, default=0, initialize=readin_capacityfactor, mutable=True)\n",
    "EM.TagDispatchableTechnology = pyo.Param(EM.Technology, default=1, initialize=readin_tagdispatchabletechnology)\n",
    "EM.E2PRatio = pyo.Param(EM.Storage, default=0, initialize=readin_e2pratio)\n",
    "EM.StorageChargeEfficiency = pyo.Param(EM.Storage, EM.Fuel, default=0, initialize=readin_storagechargeefficiency)\n",
    "EM.StorageDisChargeEfficiency = pyo.Param(EM.Storage, EM.Fuel, default=0, initialize=readin_storagedischargeefficiency)\n",
    "EM.EmissionLimit = pyo.Param(initialize=9999999)\n",
    "EM.CapitalCost = pyo.Param(EM.Technology, default=0, initialize=readin_investmentcost)\n",
    "EM.InvestmentCostStorage = pyo.Param(EM.Storage, default=0, initialize=readin_investmentcoststorage)\n",
    "EM.ResidualCapacity = pyo.Param(EM.Technology,default=0,initialize=readin_residualcapacity)\n",
    "EM.ResidualCapacityStorage = pyo.Param(EM.Storage, EM.Fuel, default=0,initialize=readin_residualcapacitystorage)\n",
    "EM.GridCapacity = pyo.Param(initialize = 500)\n",
    "EM.TagGridTechnology = pyo.Param(EM.Technology, default=0,initialize=readin_taggridtechnology)"
   ]
  },
  {
   "cell_type": "code",
   "execution_count": 47,
   "metadata": {},
   "outputs": [],
   "source": [
    "# this block of code sets the CapacityFactor of technologies that are dispatchable to be always 1\n",
    "# first, we need to construct our sets in order to be able to loop over them\n",
    "EM.Technology.construct()\n",
    "EM.TagDispatchableTechnology.construct()\n",
    "EM.CapacityFactor.construct()\n",
    "# then, we can loop over t and h and set the CapacityFactor to always be 1 when TagDispatchableTechnology is non-zero\n",
    "for t in EM.Technology:\n",
    "    for h in EM.Hour:\n",
    "        if EM.TagDispatchableTechnology[t] != 0:\n",
    "            EM.CapacityFactor[t,h] = 1"
   ]
  },
  {
   "cell_type": "markdown",
   "metadata": {},
   "source": [
    "#### Variables"
   ]
  },
  {
   "cell_type": "code",
   "execution_count": 48,
   "metadata": {},
   "outputs": [],
   "source": [
    "#Define the variables here\n",
    "\n",
    "EM.TotalCost = pyo.Var(EM.Technology, domain=pyo.NonNegativeReals)\n",
    "EM.FuelProductionByTechnology = pyo.Var(EM.Hour, EM.Technology, EM.Fuel, domain=pyo.NonNegativeReals)\n",
    "EM.Capacity = pyo.Var(EM.Technology, domain=pyo.NonNegativeReals)\n",
    "EM.FuelUseByTechnology = pyo.Var(EM.Hour, EM.Technology, EM.Fuel, domain=pyo.NonNegativeReals)\n",
    "EM.TechnologyEmissions = pyo.Var(EM.Technology)\n",
    "EM.Curtailment = pyo.Var(EM.Hour,EM.Fuel, domain=pyo.NonNegativeReals)\n",
    "EM.StorageEnergyCapacity = pyo.Var(EM.Storage,EM.Fuel, domain=pyo.NonNegativeReals) \n",
    "EM.StorageCharge = pyo.Var(EM.Hour,EM.Storage,EM.Fuel, domain=pyo.NonNegativeReals) \n",
    "EM.StorageDisCharge = pyo.Var(EM.Hour,EM.Storage,EM.Fuel, domain=pyo.NonNegativeReals) \n",
    "EM.StorageLevel = pyo.Var(EM.Hour,EM.Storage,EM.Fuel, domain=pyo.NonNegativeReals) \n",
    "EM.TotalStorageCost = pyo.Var(EM.Storage, domain=pyo.NonNegativeReals)\n",
    "EM.TotalCapacity = pyo.Var(EM.Technology, domain=pyo.NonNegativeReals)\n",
    "EM.TotalStorageCapacity = pyo.Var(EM.Storage, EM.Fuel, domain=pyo.NonNegativeReals)\n",
    "#EM.Shortage = pyo.Var(EM.Hour, EM.Fuel, domain=pyo.NonNegativeReals)\n",
    "EM.TotalCapitalCost = pyo.Var(EM.Technology, domain=pyo.NonNegativeReals)\n",
    "EM.TotalVariableCost =pyo.Var(EM.Hour, EM.Technology, domain=pyo.NonNegativeReals)"
   ]
  },
  {
   "cell_type": "markdown",
   "metadata": {},
   "source": [
    "#### Objective Function"
   ]
  },
  {
   "cell_type": "code",
   "execution_count": 49,
   "metadata": {},
   "outputs": [],
   "source": [
    "#Define the objective function here\n",
    "#The objective is to minimize the total costs of the system\n",
    "\n",
    "def obj_function(EM): \n",
    "    return pyo.summation(EM.TotalCost) +pyo.summation(EM.TotalStorageCost)\n",
    "\n",
    "# create the objective object with the earlier created objective function\n",
    "EM.obj = pyo.Objective(rule=obj_function)\n"
   ]
  },
  {
   "cell_type": "markdown",
   "metadata": {},
   "source": [
    "#### Constraints"
   ]
  },
  {
   "cell_type": "code",
   "execution_count": 50,
   "metadata": {},
   "outputs": [],
   "source": [
    "#Define the constraint functions/expressions and create constraint objects\n",
    "\n",
    "#Writing the constraint functions\n",
    "def demand_adequacy(EM,h,f): \n",
    "    return (\n",
    "        sum(EM.FuelProductionByTechnology[h,t,f] for t in EM.Technology) \n",
    "        + sum(EM.StorageDisCharge[h,s,f] for s in EM.Storage if EM.StorageDisChargeEfficiency[s,f]>0) == \n",
    "        EM.Demand[f]*EM.DemandProfile[f,h] \n",
    "        + sum(EM.FuelUseByTechnology[h,t,f] for t in EM.Technology) \n",
    "        + EM.Curtailment[h,f]\n",
    "        + sum(EM.StorageCharge[h,s,f] for s in EM.Storage if EM.StorageDisChargeEfficiency[s,f]>0) \n",
    "    )\n",
    "\n",
    "def gridcapacity(EM,h):\n",
    "    return (sum(EM.FuelProductionByTechnology[h,t,f] for t in EM.Technology for f in EM.Fuel if EM.TagGridTechnology[t] == 1) \n",
    "            + sum(EM.StorageDisCharge[h,s,f] for s in EM.Storage for f in EM.Fuel if EM.StorageDisChargeEfficiency[s,f]>0)) <= EM.GridCapacity\n",
    "\n",
    "def totalcapacity(EM,t):\n",
    "    return EM.TotalCapacity[t] == EM.ResidualCapacity[t] + EM.Capacity[t]\n",
    "        \n",
    "def productioncost(EM,t): \n",
    "    return sum(EM.FuelProductionByTechnology[h,t,f] for f in EM.Fuel for h in EM.Hour) * EM.VariableCost[t] + EM.TotalCapitalCost[t] == EM.TotalCost[t]\n",
    "\n",
    "def totalcapitalcostfunction(EM,t):\n",
    "    return EM.Capacity[t] * EM.CapitalCost[t] == EM.TotalCapitalCost[t]\n",
    "\n",
    "def totalvariablecostfunction(EM,h,t):\n",
    "    return sum(EM.FuelProductionByTechnology[h,t,f] for f in EM.Fuel) * EM.VariableCost[t] == EM.TotalVariableCost[h,t]\n",
    "\n",
    "def productionfunction_dispatchable(EM,h,t,f):\n",
    "    if EM.TagDispatchableTechnology[t] > 0:\n",
    "        return EM.OutputRatio[t,f] * EM.TotalCapacity[t] * EM.CapacityFactor[t,h] >= EM.FuelProductionByTechnology[h,t,f]\n",
    "    else:\n",
    "        return pyo.Constraint.Skip\n",
    "\n",
    "def productionfunction_variable(EM,h,t,f): \n",
    "    if EM.TagDispatchableTechnology[t] == 0:\n",
    "        return EM.OutputRatio[t,f] * EM.TotalCapacity[t] * EM.CapacityFactor[t,h] == EM.FuelProductionByTechnology[h,t,f]\n",
    "    else:\n",
    "        return pyo.Constraint.Skip\n",
    "    \n",
    "def usefunction(EM,h,t,f): \n",
    "    return EM.InputRatio[t,f] * sum(EM.FuelProductionByTechnology[h,t,ff] for ff in EM.Fuel) == EM.FuelUseByTechnology[h,t,f]\n",
    "\n",
    "def technologyemissionfunction(EM,t):\n",
    "    return sum(EM.FuelProductionByTechnology[h,t,f] for f in EM.Fuel for h in EM.Hour) * EM.EmissionRatio[t] == EM.TechnologyEmissions[t]\n",
    "\n",
    "def emissionlimitconstraint(EM):\n",
    "    return sum(EM.TechnologyEmissions[t] for t in EM.Technology) <= EM.EmissionLimit\n",
    "\n",
    "def maxcapacityconstraint(EM,t):\n",
    "    return EM.TotalCapacity[t] <= EM.MaxCapacity[t]\n",
    "\n",
    "def totalstoragecapacity(EM,s,f):\n",
    "    if EM.StorageDisChargeEfficiency[s,f] > 0:\n",
    "        return EM.TotalStorageCapacity[s,f] == EM.ResidualCapacityStorage[s,f] + EM.StorageEnergyCapacity[s,f]\n",
    "    else:\n",
    "        return pyo.Constraint.Skip\n",
    "\n",
    "def storagechargefunction(EM,s,h,f): \n",
    "    if EM.StorageDisChargeEfficiency[s,f] > 0:\n",
    "        return EM.StorageCharge[h,s,f] <= EM.TotalStorageCapacity[s,f]/EM.E2PRatio[s]\n",
    "    else:\n",
    "        return pyo.Constraint.Skip\n",
    "\n",
    "def storagedischargefunction(EM,s,h,f): \n",
    "    if EM.StorageDisChargeEfficiency[s,f] > 0:\n",
    "        return EM.StorageDisCharge[h,s,f] <= EM.TotalStorageCapacity[s,f]/EM.E2PRatio[s]\n",
    "    else:\n",
    "        return pyo.Constraint.Skip\n",
    "\n",
    "def storagelevelfunction(EM,s,h,f): \n",
    "    if EM.StorageDisChargeEfficiency[s,f] > 0 and h>1:\n",
    "        return EM.StorageLevel[h,s,f] == EM.StorageLevel[h-1,s,f] + EM.StorageCharge[h,s,f]*EM.StorageChargeEfficiency[s,f] - EM.StorageDisCharge[h,s,f]/EM.StorageDisChargeEfficiency[s,f]\n",
    "    else:\n",
    "        return pyo.Constraint.Skip\n",
    "\n",
    "def storagelevelstartfunction(EM,s,h,f): \n",
    "    if EM.StorageDisChargeEfficiency[s,f] > 0 and h==1:\n",
    "        return EM.StorageLevel[h,s,f] == 0.5*EM.TotalStorageCapacity[s,f] + EM.StorageCharge[h,s,f]*EM.StorageChargeEfficiency[s,f] - EM.StorageDisCharge[h,s,f]/EM.StorageDisChargeEfficiency[s,f]\n",
    "    else:\n",
    "        return pyo.Constraint.Skip\n",
    "\n",
    "def maxstoragelevelfunction(EM,s,h,f): \n",
    "    if EM.StorageDisChargeEfficiency[s,f] > 0:\n",
    "        return EM.StorageLevel[h,s,f] <= EM.TotalStorageCapacity[s,f]\n",
    "    else:\n",
    "        return pyo.Constraint.Skip\n",
    "    \n",
    "def storagecostfunction(EM,s): \n",
    "        return EM.TotalStorageCost[s] == sum(EM.StorageEnergyCapacity[s,f]*EM.InvestmentCostStorage[s] for f in EM.Fuel)\n",
    "\n",
    "def storageannualbalancefunction(EM,s,f): \n",
    "    if EM.StorageDisChargeEfficiency[s,f] > 0:\n",
    "        return sum(EM.StorageCharge[h,s,f] for h in EM.Hour)*EM.StorageChargeEfficiency[s,f] - sum(EM.StorageDisCharge[h,s,f] for h in EM.Hour) / EM.StorageDisChargeEfficiency[s,f] == 0\n",
    "    else:\n",
    "        return pyo.Constraint.Skip\n",
    "\n",
    "#def batterySOCfunction(EM,s,h,f,):\n",
    "    if EM.StorageDisChargeEfficiency[s,f] > 0:\n",
    "        return EM.StorageLevel[h,s,f] >= 0.6 * EM.StorageEnergyCapacity[s,f]\n",
    "    else:\n",
    "        return pyo.Constraint.Skip\n",
    "\n",
    "    \n",
    "#Creating the constraint objects\n",
    "EM.DemandAdequacy = pyo.Constraint(EM.Hour,EM.Fuel, rule=demand_adequacy)\n",
    "EM.ProductionCost = pyo.Constraint(EM.Technology, rule=productioncost)\n",
    "EM.ProductionFunction_disp = pyo.Constraint(EM.Hour,EM.Technology, EM.Fuel, rule=productionfunction_dispatchable)\n",
    "EM.ProductionFunction_res = pyo.Constraint(EM.Hour,EM.Technology, EM.Fuel, rule=productionfunction_variable)\n",
    "EM.UseFunction = pyo.Constraint(EM.Hour,EM.Technology, EM.Fuel, rule=usefunction)\n",
    "EM.TechnologyEmissionFunction = pyo.Constraint(EM.Technology, rule=technologyemissionfunction)\n",
    "EM.EmissionLimitConstraint = pyo.Constraint(rule=emissionlimitconstraint)\n",
    "EM.MaxCapacityConstraint = pyo.Constraint(EM.Technology, rule=maxcapacityconstraint)\n",
    "EM.StorageChargeFunction = pyo.Constraint(EM.Storage,EM.Hour,EM.Fuel, rule=storagechargefunction)\n",
    "EM.StorageDisChargeFunction = pyo.Constraint(EM.Storage,EM.Hour,EM.Fuel, rule=storagedischargefunction)\n",
    "EM.StorageLevelFunction = pyo.Constraint(EM.Storage,EM.Hour,EM.Fuel, rule=storagelevelfunction)\n",
    "EM.StorageLevelStartFunction = pyo.Constraint(EM.Storage,EM.Hour,EM.Fuel, rule=storagelevelstartfunction)\n",
    "EM.MaxStorageLevelFunction = pyo.Constraint(EM.Storage,EM.Hour,EM.Fuel, rule=maxstoragelevelfunction)\n",
    "EM.StorageCostFunction = pyo.Constraint(EM.Storage, rule=storagecostfunction)\n",
    "EM.StorageAnnualBalanceFunction = pyo.Constraint(EM.Storage,EM.Fuel, rule=storageannualbalancefunction)\n",
    "EM.TotalCapacityFunction = pyo.Constraint(EM.Technology, rule=totalcapacity)\n",
    "EM.TotalCapacityStorageFunction = pyo.Constraint(EM.Storage, EM.Fuel, rule=totalstoragecapacity)\n",
    "EM.GridCapacityFunction = pyo.Constraint(EM.Hour, rule=gridcapacity)\n",
    "#EM.BatterySOCFunction = pyo.Constraint(EM.Storage, EM.Hour, EM.Fuel, rule=batterySOCfunction)\n",
    "EM.TotalCapitalCostFunction = pyo.Constraint(EM.Technology, rule=totalcapitalcostfunction)\n",
    "EM.TotalVariableCostFunction = pyo.Constraint(EM.Hour, EM.Technology, rule=totalvariablecostfunction)\n"
   ]
  },
  {
   "cell_type": "markdown",
   "metadata": {},
   "source": [
    "#### Model Instance"
   ]
  },
  {
   "cell_type": "code",
   "execution_count": 51,
   "metadata": {},
   "outputs": [],
   "source": [
    "#Create the instance of the model here\n",
    "instance = EM.create_instance()\n"
   ]
  },
  {
   "cell_type": "markdown",
   "metadata": {},
   "source": [
    "#### Solver"
   ]
  },
  {
   "cell_type": "code",
   "execution_count": 52,
   "metadata": {},
   "outputs": [
    {
     "data": {
      "text/plain": [
       "{'Problem': [{'Name': 'x1927296', 'Lower bound': 98455.58512897766, 'Upper bound': 98455.58512897766, 'Number of objectives': 1, 'Number of constraints': 1489261, 'Number of variables': 1454238, 'Number of binary variables': 0, 'Number of integer variables': 0, 'Number of continuous variables': 1454238, 'Number of nonzeros': 4732081, 'Sense': 'minimize'}], 'Solver': [{'Status': 'ok', 'Return code': '0', 'Message': 'Model was solved to optimality (subject to tolerances), and an optimal solution is available.', 'Termination condition': 'optimal', 'Termination message': 'Model was solved to optimality (subject to tolerances), and an optimal solution is available.', 'Wall time': '7.471999883651733', 'Error rc': 0, 'Time': 20.615870237350464}], 'Solution': [OrderedDict([('number of solutions', 0), ('number of solutions displayed', 0)])]}"
      ]
     },
     "execution_count": 52,
     "metadata": {},
     "output_type": "execute_result"
    }
   ],
   "source": [
    "#Define the solver here\n",
    "opt = pyo.SolverFactory('gurobi')\n",
    "\n",
    "#Solve the model through the instance of the model\n",
    "opt.solve(instance)"
   ]
  },
  {
   "cell_type": "markdown",
   "metadata": {},
   "source": [
    "### Solution and Results"
   ]
  },
  {
   "cell_type": "code",
   "execution_count": 53,
   "metadata": {},
   "outputs": [],
   "source": [
    "#Display results\n",
    "#instance.display()"
   ]
  },
  {
   "cell_type": "markdown",
   "metadata": {},
   "source": [
    "#### Export Results"
   ]
  },
  {
   "cell_type": "code",
   "execution_count": 54,
   "metadata": {},
   "outputs": [
    {
     "name": "stdout",
     "output_type": "stream",
     "text": [
      "        Technology         Value\n",
      "0          SolarPV  0.000000e+00\n",
      "1      WindOnshore  0.000000e+00\n",
      "2       HydroPower  0.000000e+00\n",
      "3  DieselGenerator  4.755652e+03\n",
      "4            Tidal  0.000000e+00\n",
      "5     DieselImport  0.000000e+00\n",
      "6           Forest  0.000000e+00\n",
      "7    ElectricStove  0.000000e+00\n",
      "8  ElectricVehicle  0.000000e+00\n",
      "9       WoodBurner  2.128359e+06\n"
     ]
    }
   ],
   "source": [
    "#Extract the data from the solution to export results\n",
    "\n",
    "#we need the demand profiles of all fuels, even those where we did not give a default value\n",
    "demandprofile = pd.Series(instance.DemandProfile.extract_values(),name='value',index=pd.MultiIndex.from_tuples(instance.DemandProfile.extract_values().keys(),names=['fuel', 'hour']))\n",
    "\n",
    "# generate data frames out of our results\n",
    "ProductionByTechnology = pd.DataFrame(instance.FuelProductionByTechnology.extract_values().values(), index=pd.MultiIndex.from_tuples(instance.FuelProductionByTechnology.extract_values().keys(), names=('Hour','Technology', 'Fuel')), columns=['Value']).reset_index()\n",
    "Capacity = pd.DataFrame(instance.Capacity.extract_values().values(), index=(instance.Capacity.extract_values().keys()), columns=['Value']).rename_axis('Technology').reset_index()\n",
    "Demand = pd.DataFrame(readin_demand * demandprofile *(-1), columns=['value']).reset_index().rename(columns={'fuel': 'Fuel', 'hour': 'Hour', 'value' : 'Value'})\n",
    "Use = pd.DataFrame(instance.FuelUseByTechnology.extract_values().values(), index=pd.MultiIndex.from_tuples(instance.FuelUseByTechnology.extract_values().keys(), names=('Hour','Technology', 'Fuel')), columns=['Value']).reset_index()\n",
    "Curtailment = pd.DataFrame(instance.Curtailment.extract_values().values(), index=pd.MultiIndex.from_tuples(instance.Curtailment.extract_values().keys(), names=('Hour','Fuel')), columns=['Value']).reset_index()\n",
    "StorageLevel = pd.DataFrame(instance.StorageLevel.extract_values().values(), index=pd.MultiIndex.from_tuples(instance.StorageLevel.extract_values().keys(), names=('Hour','Storage','Fuel')), columns=['Value']).reset_index().fillna(0)\n",
    "TotalCapacity = pd.DataFrame(instance.TotalCapacity.extract_values().values(), index=(instance.TotalCapacity.extract_values().keys()), columns=['Value']).rename_axis('Technology').reset_index()\n",
    "TotalStorageCapacity = (pd.DataFrame(instance.TotalStorageCapacity.extract_values().values(), index=pd.MultiIndex.from_tuples(instance.TotalStorageCapacity.extract_values().keys(), names=('Storage', 'Fuel')), columns=['Value']).reset_index().dropna()).drop('Fuel', axis=1).reset_index()\n",
    "GenerationCapacity = TotalCapacity.iloc[0:5,:]\n",
    "TotalCapitalCost = (pd.DataFrame(instance.TotalCapitalCost.extract_values().values(), index=(instance.TotalCapitalCost.extract_values().keys()), columns=['Value']).rename_axis('Technology').reset_index()).iloc[0:5,:]\n",
    "TotalVariableCost = pd.DataFrame(instance.TotalVariableCost.extract_values().values(), index=pd.MultiIndex.from_tuples(instance.TotalVariableCost.extract_values().keys(), names=('Hour', 'Technology')), columns=['Value']).reset_index()\n",
    "TotalStorageCost = pd.DataFrame(instance.TotalStorageCost.extract_values().values(), index=(instance.TotalStorageCost.extract_values().keys()), columns=['Value']).rename_axis('Technology').reset_index()\n",
    "TotalProjectCapital = pd.concat([TotalCapitalCost, TotalStorageCost], ignore_index=True)\n",
    "TechnologyEmissions = pd.DataFrame(instance.TechnologyEmissions.extract_values().values(), index=(instance.TechnologyEmissions.extract_values().keys()), columns=['Value']).rename_axis('Technology').reset_index()\n",
    "\n",
    "#let's add outputs for our storage flows\n",
    "StorageCharge = pd.DataFrame(instance.StorageCharge.extract_values().values(), index=pd.MultiIndex.from_tuples(instance.StorageCharge.extract_values().keys(), names=('Hour','Technology','Fuel')), columns=['Value']).reset_index().fillna(0)\n",
    "StorageDisCharge = (pd.DataFrame(instance.StorageDisCharge.extract_values().values(), index=pd.MultiIndex.from_tuples(instance.StorageDisCharge.extract_values().keys(), names=('Hour','Technology','Fuel')), columns=['Value']).reset_index().fillna(0))\n",
    "\n",
    "# make sure that the values for Curtailment and Use are negative for our outputs\n",
    "Use['Value']= Use['Value']*-1\n",
    "Curtailment['Value']= Curtailment['Value']*-1\n",
    "StorageCharge['Value']= StorageCharge['Value']*-1\n",
    "\n",
    "# combine all values for Production, Use, Demand, and Curtailment into one data frame\n",
    "EnergyBalance = pd.concat([ProductionByTechnology,Use], ignore_index=True)\n",
    "EnergyBalance = pd.concat([EnergyBalance,Demand], ignore_index=True)\n",
    "EnergyBalance['Technology'] = EnergyBalance['Technology'].fillna('Demand')\n",
    "EnergyBalance = pd.concat([EnergyBalance,Curtailment], ignore_index=True)\n",
    "EnergyBalance['Technology'] = EnergyBalance['Technology'].fillna('Curtailment')\n",
    "EnergyBalance = pd.concat([EnergyBalance,StorageCharge], ignore_index=True)\n",
    "EnergyBalance = pd.concat([EnergyBalance,StorageDisCharge], ignore_index=True)\n",
    "\n",
    "# write our output values to csv files in the output subfolder\n",
    "EnergyBalance.to_csv('../3. Output/EnergyBalance.csv',index=False)\n",
    "Capacity.to_csv('../3. Output/Capacity.csv',index=False)\n",
    "StorageLevel.to_csv('../3. Output/StorageLevel.csv',index=False)\n",
    "TotalStorageCapacity.to_csv('../3. Output/TotalStorageCapacity.csv', index=False)\n",
    "GenerationCapacity.to_csv('../3. Output/GenerationCapacity.csv', index=False)\n",
    "TotalProjectCapital.to_csv('../3. Output/TotalProjectCapital.csv', index=False)\n",
    "TotalVariableCost.to_csv('../3. Output/TotalVariableCost.csv', index=False)\n",
    "TechnologyEmissions.to_csv('../3. Output/TechnologyEmissions.csv', index=False)\n",
    "\n",
    "#print(TotalCapacity)\n",
    "#print(TotalStorageCapacity)\n",
    "#print(GenerationCapacity)\n",
    "#print(TotalCapitalCost)\n",
    "#print(TotalProjectCapital)\n",
    "print(TechnologyEmissions)\n"
   ]
  },
  {
   "cell_type": "code",
   "execution_count": 55,
   "metadata": {},
   "outputs": [
    {
     "data": {
      "image/png": "[encoded data removed]",
      "text/plain": [
       "<Figure size 640x480 with 1 Axes>"
      ]
     },
     "metadata": {},
     "output_type": "display_data"
    }
   ],
   "source": [
    "#seeing the emissions per technology\n",
    "TechnologyEmissions = pd.DataFrame(instance.TechnologyEmissions.extract_values().values(), \n",
    "                                   index=pd.Index(instance.TechnologyEmissions.extract_values().keys(), name='Technology'), \n",
    "                                   columns=['Value']).reset_index()\n",
    "\n",
    "TechnologyEmissions.plot(kind='bar', x='Technology', y='Value', title='Emissions by Technology')\n",
    "plt.ylabel('Emissions')\n",
    "plt.show()"
   ]
  },
  {
   "cell_type": "markdown",
   "metadata": {},
   "source": [
    "### 2. Reverse Base Case\n",
    "\n",
    "###### (We let the system build new capacities on top of existing capacities such that the demand sectors are all met)"
   ]
  },
  {
   "cell_type": "code",
   "execution_count": 56,
   "metadata": {},
   "outputs": [],
   "source": [
    "#Enter your code here"
   ]
  },
  {
   "cell_type": "markdown",
   "metadata": {},
   "source": [
    "### 3. Future Business As Usual\n",
    "\n",
    "###### (We expand the reverse base case across 15 years)"
   ]
  },
  {
   "cell_type": "code",
   "execution_count": 57,
   "metadata": {},
   "outputs": [],
   "source": [
    "#Enter your code here"
   ]
  },
  {
   "cell_type": "markdown",
   "metadata": {},
   "source": [
    "### 4. Future with Energy Efficiency Measures\n",
    "\n",
    "###### (We expand the reverse base case across 15 years)"
   ]
  },
  {
   "cell_type": "code",
   "execution_count": 58,
   "metadata": {},
   "outputs": [],
   "source": [
    "#Enter your code here"
   ]
  },
  {
   "cell_type": "markdown",
   "metadata": {},
   "source": [
    "### 5. Future with Peak-shifting\n",
    "\n",
    "###### (We expand the reverse base case across 15 years)"
   ]
  },
  {
   "cell_type": "code",
   "execution_count": 59,
   "metadata": {},
   "outputs": [],
   "source": [
    "#Enter your code here"
   ]
  }
 ],
 "metadata": {
  "kernelspec": {
   "display_name": "learning",
   "language": "python",
   "name": "python3"
  },
  "language_info": {
   "codemirror_mode": {
    "name": "ipython",
    "version": 3
   },
   "file_extension": ".py",
   "mimetype": "text/x-python",
   "name": "python",
   "nbconvert_exporter": "python",
   "pygments_lexer": "ipython3",
   "version": "3.10.9"
  }
 },
 "nbformat": 4,
 "nbformat_minor": 2
}
