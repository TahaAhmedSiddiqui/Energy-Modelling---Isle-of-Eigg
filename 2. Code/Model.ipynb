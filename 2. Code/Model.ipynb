{
 "cells": [
  {
   "cell_type": "code",
   "execution_count": null,
   "metadata": {},
   "outputs": [],
   "source": []
  },
  {
   "cell_type": "markdown",
   "metadata": {},
   "source": [
    "# Short and Long Term Energy Model - Isle of Eigg"
   ]
  },
  {
   "cell_type": "markdown",
   "metadata": {},
   "source": [
    "##### Created on: 25.12.2023\n",
    "##### Last updated on: 17.01.2024\n",
    "##### File Revision: 01\n",
    "\n",
    "##### Developed by: Taha Ahmed Siddiqui (tahaahmedsiddiqui@outlook.com) and Hareem Taha (hareem.nadeem10@gmail.com)\n",
    "##### GitHub Repository: https://github.com/TahaAhmedSiddiqui/Energy-Modelling---Isle-of-Eigg"
   ]
  },
  {
   "cell_type": "markdown",
   "metadata": {},
   "source": [
    "### 1. Base Optimization Model\n",
    "\n",
    "##### (Define the existing configuration of the model here)"
   ]
  },
  {
   "cell_type": "markdown",
   "metadata": {},
   "source": [
    "##### Enter your code here and before 2. for Base Optimization Model"
   ]
  },
  {
   "cell_type": "code",
   "execution_count": null,
   "metadata": {},
   "outputs": [],
   "source": [
    "#Import relevant packages here\n",
    "\n",
    "import pyomo.environ as pyo\n",
    "import pandas as pd\n",
    "import matplotlib.pyplot as plt"
   ]
  },
  {
   "cell_type": "code",
   "execution_count": null,
   "metadata": {},
   "outputs": [],
   "source": [
    "#Initiate the model\n",
    "\n",
    "#Naming the model 'EM' -- stands for Energy Model\n",
    "EM = pyo.AbstractModel()"
   ]
  },
  {
   "cell_type": "markdown",
   "metadata": {},
   "source": [
    "#### Sets"
   ]
  },
  {
   "cell_type": "code",
   "execution_count": null,
   "metadata": {},
   "outputs": [],
   "source": [
    "#Call the data from input csv's and generate sets\n",
    "#The model iterates over a set of technologies, a set of storages, and a set of fuels that connects the two and serves the demand\n",
    "\n",
    "#Reading the csv's\n",
    "technology = pd.read_csv('../1. Input/technologies.csv')\n",
    "fuel = pd.read_csv('../1. Input/fuels.csv')\n",
    "storage = pd.read_csv('../1. Input/storages.csv')\n",
    "\n",
    "#Creating sets\n",
    "EM.Technology = pyo.Set(initialize = technology['technology'])\n",
    "EM.Fuel = pyo.Set(initialize = fuel['fuel'])\n",
    "EM.Storage = pyo.Set(initialize = storage['storage'])\n",
    "EM.Hour = pyo.RangeSet(1,120,1)"
   ]
  },
  {
   "cell_type": "markdown",
   "metadata": {},
   "source": [
    "#### Parameters"
   ]
  },
  {
   "cell_type": "code",
   "execution_count": null,
   "metadata": {},
   "outputs": [],
   "source": [
    "#Call the data from input csv's and generate parameters\n",
    "#The model has the installed capacities of technologies and storages, their conversion ratios and efficiencies, and a demand profile\n",
    "\n",
    "#Reading the csv's\n",
    "readin_variablecost = pd.read_csv('../1. Input/variablecost.csv', index_col=[0], sep=',').squeeze('columns')\n",
    "readin_inputratio = pd.read_csv('../1. Input/inputratio.csv', index_col=[0,1], sep=',').squeeze('columns')\n",
    "readin_outputratio = pd.read_csv('../1. Input/outputratio.csv', index_col=[0,1], sep=',').squeeze('columns')\n",
    "readin_demand = pd.read_csv('../1. Input/demand.csv', index_col=[0], sep=',').squeeze('columns')\n",
    "readin_emissionratio = pd.read_csv('../1. Input/emissionratio.csv', index_col=[0], sep=',').squeeze('columns')\n",
    "readin_maxcapacity = pd.read_csv('../1. Input/maxcapacity.csv', index_col=[0], sep=',').squeeze('columns')\n",
    "readin_demandprofile = pd.read_csv('../1. Input/demand_timeseries.csv', index_col=[0,1], sep=',').squeeze('columns')\n",
    "readin_capacityfactor = pd.read_csv('../1. Input/capacity_factors_2018.csv', index_col=[0,1], sep=',').squeeze('columns')\n",
    "readin_tagdispatchabletechnology = pd.read_csv('../1. Input/tagdispatchabletechnology.csv', index_col=[0], sep=',').squeeze('columns')\n",
    "readin_e2pratio = pd.read_csv('../1. Input/e2pratio.csv', index_col=[0], sep=',').squeeze('columns')\n",
    "readin_storagechargeefficiency = pd.read_csv('../1. Input/storagechargeefficiency.csv', index_col=[0,1], sep=',').squeeze('columns')\n",
    "readin_storagedischargeefficiency = pd.read_csv('../1. Input/storagedischargeefficiency.csv', index_col=[0,1], sep=',').squeeze('columns')\n",
    "\n",
    "#Creating parameters\n",
    "EM.VariableCost = pyo.Param(EM.Technology, default=0, initialize=readin_variablecost)\n",
    "EM.OutputRatio = pyo.Param(EM.Technology, EM.Fuel, default=0, initialize=readin_outputratio)\n",
    "EM.InputRatio = pyo.Param(EM.Technology, EM.Fuel, default=0 , initialize=readin_inputratio)\n",
    "EM.Demand = pyo.Param(EM.Fuel, default =0, initialize=readin_demand)\n",
    "EM.EmissionRatio = pyo.Param(EM.Technology, default=0, initialize=readin_emissionratio)\n",
    "EM.MaxCapacity = pyo.Param(EM.Technology, default=999, initialize=readin_maxcapacity)\n",
    "EM.DemandProfile = pyo.Param(EM.Fuel, EM.Hour, default=1/len(EM.Hour.data()), initialize=readin_demandprofile)\n",
    "EM.CapacityFactor = pyo.Param(EM.Technology, EM.Hour, default=0, initialize=readin_capacityfactor, mutable=True)\n",
    "EM.TagDispatchableTechnology = pyo.Param(EM.Technology, default=1, initialize=readin_tagdispatchabletechnology)\n",
    "EM.E2PRatio = pyo.Param(EM.Storage, default=0, initialize=readin_e2pratio)\n",
    "EM.StorageChargeEfficiency = pyo.Param(EM.Storage, EM.Fuel, default=0, initialize=readin_storagechargeefficiency)\n",
    "EM.StorageDisChargeEfficiency = pyo.Param(EM.Storage, EM.Fuel, default=0, initialize=readin_storagedischargeefficiency)\n",
    "EM.EmissionLimit = pyo.Param(initialize=2500)"
   ]
  },
  {
   "cell_type": "markdown",
   "metadata": {},
   "source": [
    "#### Variables"
   ]
  },
  {
   "cell_type": "code",
   "execution_count": null,
   "metadata": {},
   "outputs": [],
   "source": [
    "#Define the variables here\n",
    "\n",
    "#Creating the variables\n",
    "EM.TotalCost = pyo.Var(EM.Technology, domain=pyo.NonNegativeReals)\n",
    "EM.FuelProductionByTechnology = pyo.Var(EM.Hour, EM.Technology, EM.Fuel, domain=pyo.NonNegativeReals)\n",
    "EM.Capacity = pyo.Var(EM.Technology, domain=pyo.NonNegativeReals)\n",
    "EM.FuelUseByTechnology = pyo.Var(EM.Hour, EM.Technology, EM.Fuel, domain=pyo.NonNegativeReals)\n",
    "EM.TechnologyEmissions = pyo.Var(EM.Technology)\n",
    "EM.Curtailment = pyo.Var(EM.Hour,EM.Fuel, domain=pyo.NonNegativeReals)\n",
    "EM.StorageEnergyCapacity = pyo.Var(EM.Storage,EM.Fuel, domain=pyo.NonNegativeReals) \n",
    "EM.StorageCharge = pyo.Var(EM.Hour,EM.Storage,EM.Fuel, domain=pyo.NonNegativeReals) \n",
    "EM.StorageDisCharge = pyo.Var(EM.Hour,EM.Storage,EM.Fuel, domain=pyo.NonNegativeReals) \n",
    "EM.StorageLevel = pyo.Var(EM.Hour,EM.Storage,EM.Fuel, domain=pyo.NonNegativeReals) \n",
    "EM.TotalStorageCost = pyo.Var(EM.Storage, domain=pyo.NonNegativeReals)\n"
   ]
  },
  {
   "cell_type": "markdown",
   "metadata": {},
   "source": [
    "#### Objective Function"
   ]
  },
  {
   "cell_type": "code",
   "execution_count": null,
   "metadata": {},
   "outputs": [],
   "source": [
    "#Define the objective function here\n",
    "#The objective is to minimize the total costs of the system\n",
    "\n",
    "def obj_function(EM): \n",
    "    return pyo.summation(EM.TotalCost) #+pyo.summation(EM.TotalStorageCost)\n",
    "\n",
    "# create the objective object with the earlier created objective function\n",
    "EM.obj = pyo.Objective(rule=obj_function)\n"
   ]
  },
  {
   "cell_type": "markdown",
   "metadata": {},
   "source": [
    "#### Constraints"
   ]
  },
  {
   "cell_type": "code",
   "execution_count": null,
   "metadata": {},
   "outputs": [],
   "source": [
    "#Define the constraint functions/expressions and create constraint objects\n",
    "\n",
    "#Writing the constraint functions\n",
    "def demand_adequacy(EM,h,f): \n",
    "    return (\n",
    "        sum(EM.FuelProductionByTechnology[h,t,f] for t in EM.Technology) \n",
    "        + sum(EM.StorageDisCharge[h,s,f] for s in EM.Storage if EM.StorageDisChargeEfficiency[s,f]>0) == \n",
    "        EM.Demand[f]*EM.DemandProfile[f,h] \n",
    "        + sum(EM.FuelUseByTechnology[h,t,f] for t in EM.Technology) \n",
    "        + EM.Curtailment[h,f]\n",
    "        + sum(EM.StorageCharge[h,s,f] for s in EM.Storage if EM.StorageDisChargeEfficiency[s,f]>0) \n",
    "    )\n",
    "        \n",
    "def productioncost(EM,t): \n",
    "    return sum(EM.FuelProductionByTechnology[h,t,f] for f in EM.Fuel for h in EM.Hour) * EM.VariableCost[t] == EM.TotalCost[t]\n",
    "\n",
    "def productionfunction_dispatchable(EM,h,t,f):\n",
    "    if EM.TagDispatchableTechnology[t] > 0:\n",
    "        return EM.OutputRatio[t,f] * EM.Capacity[t] * EM.CapacityFactor[t,h] >= EM.FuelProductionByTechnology[h,t,f]\n",
    "    else:\n",
    "        return pyo.Constraint.Skip\n",
    "\n",
    "def productionfunction_variable(EM,h,t,f): \n",
    "    if EM.TagDispatchableTechnology[t] == 0:\n",
    "        return EM.OutputRatio[t,f] * EM.Capacity[t] * EM.CapacityFactor[t,h] == EM.FuelProductionByTechnology[h,t,f]\n",
    "    else:\n",
    "        return pyo.Constraint.Skip\n",
    "    \n",
    "def usefunction(EM,h,t,f): \n",
    "    return EM.InputRatio[t,f] * sum(EM.FuelProductionByTechnology[h,t,ff] for ff in EM.Fuel) == EM.FuelUseByTechnology[h,t,f]\n",
    "\n",
    "def technologyemissionfunction(EM,t):\n",
    "    return sum(EM.FuelProductionByTechnology[h,t,f] for f in EM.Fuel for h in EM.Hour) * EM.EmissionRatio[t] == EM.TechnologyEmissions[t]\n",
    "\n",
    "def emissionlimitconstraint(EM):\n",
    "    return sum(EM.TechnologyEmissions[t] for t in EM.Technology) <= EM.EmissionLimit\n",
    "\n",
    "def maxcapacityconstraint(EM,t):\n",
    "    return EM.Capacity[t] <= EM.MaxCapacity[t]\n",
    "\n",
    "def storagechargefunction(EM,s,h,f): \n",
    "    if EM.StorageDisChargeEfficiency[s,f] > 0:\n",
    "        return EM.StorageCharge[h,s,f] <= EM.StorageEnergyCapacity[s,f]/EM.E2PRatio[s]\n",
    "    else:\n",
    "        return pyo.Constraint.Skip\n",
    "\n",
    "def storagedischargefunction(EM,s,h,f): \n",
    "    if EM.StorageDisChargeEfficiency[s,f] > 0:\n",
    "        return EM.StorageDisCharge[h,s,f] <= EM.StorageEnergyCapacity[s,f]/EM.E2PRatio[s]\n",
    "    else:\n",
    "        return pyo.Constraint.Skip\n",
    "\n",
    "def storagelevelfunction(EM,s,h,f): \n",
    "    if EM.StorageDisChargeEfficiency[s,f] > 0 and h>1:\n",
    "        return EM.StorageLevel[h,s,f] == EM.StorageLevel[h-1,s,f] + EM.StorageCharge[h,s,f]*EM.StorageChargeEfficiency[s,f] - EM.StorageDisCharge[h,s,f]/EM.StorageDisChargeEfficiency[s,f]\n",
    "    else:\n",
    "        return pyo.Constraint.Skip\n",
    "\n",
    "def storagelevelstartfunction(EM,s,h,f): \n",
    "    if EM.StorageDisChargeEfficiency[s,f] > 0 and h==1:\n",
    "        return EM.StorageLevel[h,s,f] == 0.5*EM.StorageEnergyCapacity[s,f] + EM.StorageCharge[h,s,f]*EM.StorageChargeEfficiency[s,f] - EM.StorageDisCharge[h,s,f]/EM.StorageDisChargeEfficiency[s,f]\n",
    "    else:\n",
    "        return pyo.Constraint.Skip\n",
    "\n",
    "def maxstoragelevelfunction(EM,s,h,f): \n",
    "    if EM.StorageDisChargeEfficiency[s,f] > 0:\n",
    "        return EM.StorageLevel[h,s,f] <= EM.StorageEnergyCapacity[s,f]\n",
    "    else:\n",
    "        return pyo.Constraint.Skip\n",
    "    \n",
    "#def storagecostfunction(EM,s): \n",
    " #       return EM.TotalStorageCost[s] == sum(EM.StorageEnergyCapacity[s,f]*EM.InvestmentCostStorage[s] for f in EM.Fuel)\n",
    "\n",
    "\n",
    "def storageannualbalancefunction(EM,s,f): \n",
    "    if EM.StorageDisChargeEfficiency[s,f] > 0:\n",
    "        return sum(EM.StorageCharge[h,s,f] for h in EM.Hour)*EM.StorageChargeEfficiency[s,f] - sum(EM.StorageDisCharge[h,s,f] for h in EM.Hour) / EM.StorageDisChargeEfficiency[s,f] == 0\n",
    "    else:\n",
    "        return pyo.Constraint.Skip\n",
    "    \n",
    "#Creating the constraint objects\n",
    "EM.DemandAdequacy = pyo.Constraint(EM.Hour,EM.Fuel, rule=demand_adequacy)\n",
    "EM.ProductionCost = pyo.Constraint(EM.Technology, rule=productioncost)\n",
    "EM.ProductionFunction_disp = pyo.Constraint(EM.Hour,EM.Technology, EM.Fuel, rule=productionfunction_dispatchable)\n",
    "EM.ProductionFunction_res = pyo.Constraint(EM.Hour,EM.Technology, EM.Fuel, rule=productionfunction_variable)\n",
    "EM.UseFunction = pyo.Constraint(EM.Hour,EM.Technology, EM.Fuel, rule=usefunction)\n",
    "EM.TechnologyEmissionFunction = pyo.Constraint(EM.Technology, rule=technologyemissionfunction)\n",
    "EM.EmissionLimitConstraint = pyo.Constraint(rule=emissionlimitconstraint)\n",
    "EM.MaxCapacityConstraint = pyo.Constraint(EM.Technology, rule=maxcapacityconstraint)\n",
    "EM.StorageChargeFunction = pyo.Constraint(EM.Storage,EM.Hour,EM.Fuel, rule=storagechargefunction)\n",
    "EM.StorageDisChargeFunction = pyo.Constraint(EM.Storage,EM.Hour,EM.Fuel, rule=storagedischargefunction)\n",
    "EM.StorageLevelFunction = pyo.Constraint(EM.Storage,EM.Hour,EM.Fuel, rule=storagelevelfunction)\n",
    "EM.StorageLevelStartFunction = pyo.Constraint(EM.Storage,EM.Hour,EM.Fuel, rule=storagelevelstartfunction)\n",
    "EM.MaxStorageLevelFunction = pyo.Constraint(EM.Storage,EM.Hour,EM.Fuel, rule=maxstoragelevelfunction)\n",
    "#EM.StorageCostFunction = pyo.Constraint(EM.Storage, rule=storagecostfunction)\n",
    "EM.StorageAnnualBalanceFunction = pyo.Constraint(EM.Storage,EM.Fuel, rule=storageannualbalancefunction)"
   ]
  },
  {
   "cell_type": "markdown",
   "metadata": {},
   "source": [
    "#### Model Instance"
   ]
  },
  {
   "cell_type": "code",
   "execution_count": null,
   "metadata": {},
   "outputs": [],
   "source": [
    "#Create the instance of the model here\n",
    "instance = EM.create_instance()\n"
   ]
  },
  {
   "cell_type": "markdown",
   "metadata": {},
   "source": [
    "#### Solver"
   ]
  },
  {
   "cell_type": "code",
   "execution_count": null,
   "metadata": {},
   "outputs": [],
   "source": [
    "#Define the solver here\n",
    "opt = pyo.SolverFactory('cbc')\n",
    "\n",
    "#Solve the model through the instance of the model\n",
    "opt.solve(instance)"
   ]
  },
  {
   "cell_type": "markdown",
   "metadata": {},
   "source": [
    "### Solution and Results"
   ]
  },
  {
   "cell_type": "code",
   "execution_count": null,
   "metadata": {},
   "outputs": [],
   "source": [
    "#Display results\n",
    "instance.display()"
   ]
  },
  {
   "cell_type": "markdown",
   "metadata": {},
   "source": [
    "#### Export Results"
   ]
  },
  {
   "cell_type": "code",
   "execution_count": null,
   "metadata": {},
   "outputs": [],
   "source": [
    "#Extract the data from the solution to export results"
   ]
  },
  {
   "cell_type": "markdown",
   "metadata": {},
   "source": [
    "### 2. Future Scenarios\n",
    "\n",
    "###### (Define the modelled scenario here)"
   ]
  },
  {
   "cell_type": "code",
   "execution_count": null,
   "metadata": {},
   "outputs": [],
   "source": [
    "#Enter your code here"
   ]
  }
 ],
 "metadata": {
  "kernelspec": {
   "display_name": "learning",
   "language": "python",
   "name": "python3"
  },
  "language_info": {
   "codemirror_mode": {
    "name": "ipython",
    "version": 3
   },
   "file_extension": ".py",
   "mimetype": "text/x-python",
   "name": "python",
   "nbconvert_exporter": "python",
   "pygments_lexer": "ipython3",
   "version": "3.10.9"
  }
 },
 "nbformat": 4,
 "nbformat_minor": 2
}
