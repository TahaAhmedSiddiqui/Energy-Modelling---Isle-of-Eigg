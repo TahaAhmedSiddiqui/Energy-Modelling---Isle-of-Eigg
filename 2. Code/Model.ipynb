{
 "cells": [
  {
   "cell_type": "code",
   "execution_count": null,
   "metadata": {},
   "outputs": [],
   "source": []
  },
  {
   "cell_type": "markdown",
   "metadata": {},
   "source": [
    "# Short and Long Term Energy Model - Isle of Eigg"
   ]
  },
  {
   "cell_type": "markdown",
   "metadata": {},
   "source": [
    "##### Created on: 25.12.2023\n",
    "##### Last updated on: 17.01.2024\n",
    "##### File Revision: 01\n",
    "\n",
    "##### Developed by: Taha Ahmed Siddiqui (tahaahmedsiddiqui@outlook.com) and Hareem Taha (hareem.nadeem10@gmail.com)\n",
    "##### GitHub Repository: https://github.com/TahaAhmedSiddiqui/Energy-Modelling---Isle-of-Eigg"
   ]
  },
  {
   "cell_type": "markdown",
   "metadata": {},
   "source": [
    "### 1. Base Optimization Model"
   ]
  },
  {
   "cell_type": "code",
   "execution_count": null,
   "metadata": {},
   "outputs": [],
   "source": [
    "#Enter your code here"
   ]
  },
  {
   "cell_type": "markdown",
   "metadata": {},
   "source": [
    "### 2. Future Scenarios"
   ]
  },
  {
   "cell_type": "code",
   "execution_count": null,
   "metadata": {},
   "outputs": [],
   "source": [
    "#Enter your code here"
   ]
  }
 ],
 "metadata": {
  "language_info": {
   "name": "python"
  }
 },
 "nbformat": 4,
 "nbformat_minor": 2
}
